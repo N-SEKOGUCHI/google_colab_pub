{
  "nbformat": 4,
  "nbformat_minor": 0,
  "metadata": {
    "colab": {
      "provenance": []
    },
    "kernelspec": {
      "name": "python3",
      "display_name": "Python 3"
    },
    "language_info": {
      "name": "python"
    }
  },
  "cells": [
    {
      "cell_type": "markdown",
      "source": [
        "This is to learn about Google Colab, bash on, and English."
      ],
      "metadata": {
        "id": "ccNk0aK_IOlX"
      }
    },
    {
      "cell_type": "markdown",
      "source": [
        "The first, I asked Google Gemini \"Can I run bash commands on colab ?\"\n",
        "Gemini answered\n",
        "1. Using the ! (Exclamation Mark)\n",
        "2. Using %%bash Magic Command.\n",
        "\n",
        "And capability to combine bash and python.\n",
        "Let's do it!"
      ],
      "metadata": {
        "id": "8955keq8JUsu"
      }
    },
    {
      "cell_type": "code",
      "source": [
        "!echo hello world"
      ],
      "metadata": {
        "colab": {
          "base_uri": "https://localhost:8080/"
        },
        "id": "frsLq-nzLunc",
        "outputId": "c89c4d77-f784-49a2-be4f-7886e2d9e4a0"
      },
      "execution_count": null,
      "outputs": [
        {
          "output_type": "stream",
          "name": "stdout",
          "text": [
            "hello world\n"
          ]
        }
      ]
    },
    {
      "cell_type": "code",
      "source": [
        "!man bash"
      ],
      "metadata": {
        "colab": {
          "base_uri": "https://localhost:8080/"
        },
        "id": "YKK_YReFndd7",
        "outputId": "6b19ae05-9cde-4aab-b3d7-14446f414936"
      },
      "execution_count": null,
      "outputs": [
        {
          "output_type": "stream",
          "name": "stdout",
          "text": [
            "This system has been minimized by removing packages and content that are\n",
            "not required on a system that users do not log into.\n",
            "\n",
            "To restore this content, including manpages, you can run the 'unminimize'\n",
            "command. You will still need to ensure the 'man-db' package is installed.\n"
          ]
        }
      ]
    },
    {
      "cell_type": "markdown",
      "source": [
        "When I would use man, Colab said \"You will still need to ensure the 'man-db' package is installed.\"\n",
        "\n",
        "I should install?"
      ],
      "metadata": {
        "id": "UGhNrJuDUTzi"
      }
    },
    {
      "cell_type": "code",
      "source": [
        "%%bash\n",
        "#bash --version\n",
        "#echo ${HOSTNAME}\n",
        "#apt-get --help\n",
        "#sudo apt-get update  # Update the package list\n",
        "sudo apt-get install -y man-db  # Install man-db (-y skips confirmation prompts)"
      ],
      "metadata": {
        "colab": {
          "base_uri": "https://localhost:8080/"
        },
        "id": "qtQvVBGAUiDM",
        "outputId": "1266fa84-b32a-490d-d750-96b7f2f28170"
      },
      "execution_count": null,
      "outputs": [
        {
          "output_type": "stream",
          "name": "stdout",
          "text": [
            "Reading package lists...\n",
            "Building dependency tree...\n",
            "Reading state information...\n",
            "man-db is already the newest version (2.10.2-1).\n",
            "0 upgraded, 0 newly installed, 0 to remove and 20 not upgraded.\n"
          ]
        }
      ]
    },
    {
      "cell_type": "code",
      "source": [
        "%%bash\n",
        "which apt apt-get\n",
        "ls -l /usr/bin/dpkg* /usr/bin/apt*"
      ],
      "metadata": {
        "colab": {
          "base_uri": "https://localhost:8080/"
        },
        "id": "WNPpsmTDpo9g",
        "outputId": "ec48116f-875a-4550-8e14-e98714a4e0be"
      },
      "execution_count": null,
      "outputs": [
        {
          "output_type": "stream",
          "name": "stdout",
          "text": [
            "/usr/bin/apt\n",
            "/usr/bin/apt-get\n",
            "-rwxr-xr-x 1 root root  18824 Sep  5 14:43 /usr/bin/apt\n",
            "lrwxrwxrwx 1 root root     18 Oct 24  2023 /usr/bin/apt-add-repository -> add-apt-repository\n",
            "-rwxr-xr-x 1 root root  84448 Sep  5 14:43 /usr/bin/apt-cache\n",
            "-rwxr-xr-x 1 root root  27104 Sep  5 14:43 /usr/bin/apt-cdrom\n",
            "-rwxr-xr-x 1 root root  27024 Sep  5 14:43 /usr/bin/apt-config\n",
            "-rwxr-xr-x 1 root root  23008 Sep  5 14:43 /usr/bin/apt-extracttemplates\n",
            "-rwxr-xr-x 1 root root 236008 Sep  5 14:43 /usr/bin/apt-ftparchive\n",
            "-rwxr-xr-x 1 root root  51680 Sep  5 14:43 /usr/bin/apt-get\n",
            "-rwxr-xr-x 1 root root  28173 Sep  5 14:43 /usr/bin/apt-key\n",
            "-rwxr-xr-x 1 root root  51680 Sep  5 14:43 /usr/bin/apt-mark\n",
            "-rwxr-xr-x 1 root root  39320 Sep  5 14:43 /usr/bin/apt-sortpkgs\n",
            "-rwxr-xr-x 1 root root 318144 Feb 23  2024 /usr/bin/dpkg\n",
            "-rwxr-xr-x 1 root root  13832 Feb 23  2024 /usr/bin/dpkg-architecture\n",
            "-rwxr-xr-x 1 root root   7565 Feb 23  2024 /usr/bin/dpkg-buildflags\n",
            "-rwxr-xr-x 1 root root  32425 Feb 23  2024 /usr/bin/dpkg-buildpackage\n",
            "-rwxr-xr-x 1 root root   7624 Feb 23  2024 /usr/bin/dpkg-checkbuilddeps\n",
            "-rwxr-xr-x 1 root root 137720 Feb 23  2024 /usr/bin/dpkg-deb\n",
            "-rwxr-xr-x 1 root root   2782 Feb 23  2024 /usr/bin/dpkg-distaddfile\n",
            "-rwxr-xr-x 1 root root 121336 Feb 23  2024 /usr/bin/dpkg-divert\n",
            "-rwxr-xr-x 1 root root  17106 Feb 23  2024 /usr/bin/dpkg-genbuildinfo\n",
            "-rwxr-xr-x 1 root root  17687 Feb 23  2024 /usr/bin/dpkg-genchanges\n",
            "-rwxr-xr-x 1 root root  14580 Feb 23  2024 /usr/bin/dpkg-gencontrol\n",
            "-rwxr-xr-x 1 root root  10902 Feb 23  2024 /usr/bin/dpkg-gensymbols\n",
            "-rwxr-xr-x 1 root root  21209 Feb 23  2024 /usr/bin/dpkg-maintscript-helper\n",
            "-rwxr-xr-x 1 root root   8903 Feb 23  2024 /usr/bin/dpkg-mergechangelogs\n",
            "-rwxr-xr-x 1 root root   6789 Feb 23  2024 /usr/bin/dpkg-name\n",
            "-rwxr-xr-x 1 root root   4947 Feb 23  2024 /usr/bin/dpkg-parsechangelog\n",
            "-rwxr-xr-x 1 root root 141848 Feb 23  2024 /usr/bin/dpkg-query\n",
            "-rwxr-xr-x 1 root root   4189 Feb 23  2024 /usr/bin/dpkg-realpath\n",
            "-rwxr-xr-x 1 root root   8705 Feb 23  2024 /usr/bin/dpkg-scanpackages\n",
            "-rwxr-xr-x 1 root root   9174 Feb 23  2024 /usr/bin/dpkg-scansources\n",
            "-rwxr-xr-x 1 root root  31700 Feb 23  2024 /usr/bin/dpkg-shlibdeps\n",
            "-rwxr-xr-x 1 root root  23106 Feb 23  2024 /usr/bin/dpkg-source\n",
            "-rwxr-xr-x 1 root root 100872 Feb 23  2024 /usr/bin/dpkg-split\n",
            "-rwxr-xr-x 1 root root  47368 Feb 23  2024 /usr/bin/dpkg-statoverride\n",
            "-rwxr-xr-x 1 root root  43424 Feb 23  2024 /usr/bin/dpkg-trigger\n",
            "-rwxr-xr-x 1 root root   3262 Feb 23  2024 /usr/bin/dpkg-vendor\n"
          ]
        }
      ]
    },
    {
      "cell_type": "code",
      "source": [
        "!apt --help\n",
        "!apt-get --help\n",
        "!apt-cache --help"
      ],
      "metadata": {
        "colab": {
          "base_uri": "https://localhost:8080/"
        },
        "id": "D_QD0Lftn25y",
        "outputId": "163b2ec3-b26f-4b1c-81d5-1c4168500e73"
      },
      "execution_count": null,
      "outputs": [
        {
          "output_type": "stream",
          "name": "stdout",
          "text": [
            "apt 2.4.13 (amd64)\n",
            "Usage: apt [options] command\n",
            "\n",
            "apt is a commandline package manager and provides commands for\n",
            "searching and managing as well as querying information about packages.\n",
            "It provides the same functionality as the specialized APT tools,\n",
            "like apt-get and apt-cache, but enables options more suitable for\n",
            "interactive use by default.\n",
            "\n",
            "Most used commands:\n",
            "  list - list packages based on package names\n",
            "  search - search in package descriptions\n",
            "  show - show package details\n",
            "  install - install packages\n",
            "  reinstall - reinstall packages\n",
            "  remove - remove packages\n",
            "  autoremove - Remove automatically all unused packages\n",
            "  update - update list of available packages\n",
            "  upgrade - upgrade the system by installing/upgrading packages\n",
            "  full-upgrade - upgrade the system by removing/installing/upgrading packages\n",
            "  edit-sources - edit the source information file\n",
            "  satisfy - satisfy dependency strings\n",
            "\n",
            "See apt(8) for more information about the available commands.\n",
            "Configuration options and syntax is detailed in apt.conf(5).\n",
            "Information about how to configure sources can be found in sources.list(5).\n",
            "Package and version choices can be expressed via apt_preferences(5).\n",
            "Security details are available in apt-secure(8).\n",
            "                                        This APT has Super Cow Powers.\n",
            "apt 2.4.13 (amd64)\n",
            "Usage: apt-get [options] command\n",
            "       apt-get [options] install|remove pkg1 [pkg2 ...]\n",
            "       apt-get [options] source pkg1 [pkg2 ...]\n",
            "\n",
            "apt-get is a command line interface for retrieval of packages\n",
            "and information about them from authenticated sources and\n",
            "for installation, upgrade and removal of packages together\n",
            "with their dependencies.\n",
            "\n",
            "Most used commands:\n",
            "  update - Retrieve new lists of packages\n",
            "  upgrade - Perform an upgrade\n",
            "  install - Install new packages (pkg is libc6 not libc6.deb)\n",
            "  reinstall - Reinstall packages (pkg is libc6 not libc6.deb)\n",
            "  remove - Remove packages\n",
            "  purge - Remove packages and config files\n",
            "  autoremove - Remove automatically all unused packages\n",
            "  dist-upgrade - Distribution upgrade, see apt-get(8)\n",
            "  dselect-upgrade - Follow dselect selections\n",
            "  build-dep - Configure build-dependencies for source packages\n",
            "  satisfy - Satisfy dependency strings\n",
            "  clean - Erase downloaded archive files\n",
            "  autoclean - Erase old downloaded archive files\n",
            "  check - Verify that there are no broken dependencies\n",
            "  source - Download source archives\n",
            "  download - Download the binary package into the current directory\n",
            "  changelog - Download and display the changelog for the given package\n",
            "\n",
            "See apt-get(8) for more information about the available commands.\n",
            "Configuration options and syntax is detailed in apt.conf(5).\n",
            "Information about how to configure sources can be found in sources.list(5).\n",
            "Package and version choices can be expressed via apt_preferences(5).\n",
            "Security details are available in apt-secure(8).\n",
            "                                        This APT has Super Cow Powers.\n",
            "apt 2.4.13 (amd64)\n",
            "Usage: apt-cache [options] command\n",
            "       apt-cache [options] show pkg1 [pkg2 ...]\n",
            "\n",
            "apt-cache queries and displays available information about installed\n",
            "and installable packages. It works exclusively on the data acquired\n",
            "into the local cache via the 'update' command of e.g. apt-get. The\n",
            "displayed information may therefore be outdated if the last update was\n",
            "too long ago, but in exchange apt-cache works independently of the\n",
            "availability of the configured sources (e.g. offline).\n",
            "\n",
            "Most used commands:\n",
            "  showsrc - Show source records\n",
            "  search - Search the package list for a regex pattern\n",
            "  depends - Show raw dependency information for a package\n",
            "  rdepends - Show reverse dependency information for a package\n",
            "  show - Show a readable record for the package\n",
            "  pkgnames - List the names of all packages in the system\n",
            "  policy - Show policy settings\n",
            "\n",
            "See apt-cache(8) for more information about the available commands.\n",
            "Configuration options and syntax is detailed in apt.conf(5).\n",
            "Information about how to configure sources can be found in sources.list(5).\n",
            "Package and version choices can be expressed via apt_preferences(5).\n",
            "Security details are available in apt-secure(8).\n"
          ]
        }
      ]
    },
    {
      "cell_type": "code",
      "source": [
        "!apt show man-db\n",
        "!apt-cache show man-db"
      ],
      "metadata": {
        "colab": {
          "base_uri": "https://localhost:8080/"
        },
        "id": "uNcOA3ICpBy6",
        "outputId": "eb4067dd-971a-493e-d41c-d67d795e1723"
      },
      "execution_count": null,
      "outputs": [
        {
          "output_type": "stream",
          "name": "stdout",
          "text": [
            "Package: man-db\n",
            "Version: 2.10.2-1\n",
            "Priority: standard\n",
            "Section: doc\n",
            "Origin: Ubuntu\n",
            "Maintainer: Colin Watson <cjwatson@debian.org>\n",
            "Bugs: https://bugs.launchpad.net/ubuntu/+filebug\n",
            "Installed-Size: 2,892 kB\n",
            "Provides: man, man-browser\n",
            "Depends: bsdextrautils | bsdmainutils (<< 12.1.1~), groff-base, debconf (>= 0.5) | debconf-2.0, libc6 (>= 2.34), libgdbm6 (>= 1.16), libpipeline1 (>= 1.5.0), libseccomp2 (>= 2.1.0), zlib1g (>= 1:1.1.4)\n",
            "Suggests: apparmor, groff, less, www-browser\n",
            "Conflicts: man\n",
            "Replaces: man, nlsutils\n",
            "Homepage: https://nongnu.org/man-db/\n",
            "Task: standard\n",
            "Download-Size: 1,187 kB\n",
            "APT-Manual-Installed: yes\n",
            "APT-Sources: http://archive.ubuntu.com/ubuntu jammy/main amd64 Packages\n",
            "Description: tools for reading manual pages\n",
            "\n",
            "Package: man-db\n",
            "Architecture: amd64\n",
            "Version: 2.10.2-1\n",
            "Multi-Arch: foreign\n",
            "Priority: standard\n",
            "Section: doc\n",
            "Origin: Ubuntu\n",
            "Maintainer: Colin Watson <cjwatson@debian.org>\n",
            "Bugs: https://bugs.launchpad.net/ubuntu/+filebug\n",
            "Installed-Size: 2824\n",
            "Provides: man, man-browser\n",
            "Depends: bsdextrautils | bsdmainutils (<< 12.1.1~), groff-base, debconf (>= 0.5) | debconf-2.0, libc6 (>= 2.34), libgdbm6 (>= 1.16), libpipeline1 (>= 1.5.0), libseccomp2 (>= 2.1.0), zlib1g (>= 1:1.1.4)\n",
            "Suggests: apparmor, groff, less, www-browser\n",
            "Conflicts: man\n",
            "Replaces: man, nlsutils\n",
            "Filename: pool/main/m/man-db/man-db_2.10.2-1_amd64.deb\n",
            "Size: 1186876\n",
            "MD5sum: a684f12c90e4c7123616d780a023bdaf\n",
            "SHA1: b996ae95f8ad24abca9ff612c734ca81ed885573\n",
            "SHA256: ef75d5dcea4aea5142e8b2b51b7c025836085cc8e58a154458434d2bd73635f4\n",
            "SHA512: ab4444e74210678fec7d1c3844981659674fc492e5d07b7869749ec40c24d63a4b5d159f319ee8dbf1b9247b846e3d2572bd4e7fb4665a4b6ef9384504d49571\n",
            "Homepage: https://nongnu.org/man-db/\n",
            "Description: tools for reading manual pages\n",
            "Description-md5: fa4d579e45a7d37a797e795644e2648b\n",
            "Task: standard\n",
            "\n"
          ]
        }
      ]
    },
    {
      "cell_type": "code",
      "source": [
        "!find / -name \"man-db_2.10.2-1_amd64.deb\""
      ],
      "metadata": {
        "colab": {
          "base_uri": "https://localhost:8080/"
        },
        "id": "O_vnkJzYp-7i",
        "outputId": "9a88c7a0-c850-472f-a84b-aa8bfb0012a1"
      },
      "execution_count": null,
      "outputs": [
        {
          "output_type": "stream",
          "name": "stdout",
          "text": [
            "find: ‘/proc/69/task/69/net’: Invalid argument\n",
            "find: ‘/proc/69/net’: Invalid argument\n"
          ]
        }
      ]
    },
    {
      "cell_type": "code",
      "source": [
        "!find / -name man-db* -exec file {} \\; 2>/dev/null"
      ],
      "metadata": {
        "colab": {
          "base_uri": "https://localhost:8080/"
        },
        "id": "KQifrc3OqhiQ",
        "outputId": "7a258135-cccb-4caf-ea7e-59ef0272f30b"
      },
      "execution_count": 3,
      "outputs": [
        {
          "output_type": "stream",
          "name": "stdout",
          "text": [
            "/etc/systemd/system/timers.target.wants/man-db.timer: symbolic link to /lib/systemd/system/man-db.timer\n",
            "/etc/cron.daily/man-db: POSIX shell script, ASCII text executable\n",
            "/etc/cron.weekly/man-db: POSIX shell script, ASCII text executable\n",
            "/var/lib/dpkg/info/man-db.list: ASCII text\n",
            "/var/lib/dpkg/info/man-db.templates: Unicode text, UTF-8 text, with very long lines (432)\n",
            "/var/lib/dpkg/info/man-db.postinst: POSIX shell script, ASCII text executable\n",
            "/var/lib/dpkg/info/man-db.conffiles: ASCII text\n",
            "/var/lib/dpkg/info/man-db.triggers: ASCII text\n",
            "/var/lib/dpkg/info/man-db.postrm: POSIX shell script, ASCII text executable\n",
            "/var/lib/dpkg/info/man-db.prerm: POSIX shell script, ASCII text executable\n",
            "/var/lib/dpkg/info/man-db.md5sums: ASCII text\n",
            "/var/lib/dpkg/info/man-db.config: POSIX shell script, ASCII text executable\n",
            "/var/lib/systemd/deb-systemd-helper-enabled/timers.target.wants/man-db.timer: empty\n",
            "/var/lib/systemd/deb-systemd-helper-enabled/man-db.timer.dsh-also: ASCII text\n",
            "/var/lib/man-db: directory\n",
            "/usr/libexec/man-db: directory\n",
            "/usr/lib/tmpfiles.d/man-db.conf: ASCII text\n",
            "/usr/lib/mime/packages/man-db: ASCII text\n",
            "/usr/lib/systemd/system/man-db.timer: ASCII text\n",
            "/usr/lib/systemd/system/man-db.service: ASCII text\n",
            "/usr/lib/man-db: directory\n",
            "/usr/share/lintian/overrides/man-db: ASCII text\n",
            "/usr/share/doc-base/man-db.man-db: ASCII text\n",
            "/usr/share/bug/man-db: directory\n",
            "/usr/share/doc/man-db: directory\n",
            "/usr/share/doc/man-db/man-db-manual.txt.gz: gzip compressed data, max compression, from Unix, original size modulo 2^32 70554\n",
            "/usr/share/doc/man-db/man-db-manual.ps.gz: gzip compressed data, max compression, from Unix, original size modulo 2^32 131619\n",
            "/usr/share/man-db: directory\n"
          ]
        }
      ]
    },
    {
      "cell_type": "code",
      "source": [
        "!cat /var/lib/dpkg/info/man-db.list"
      ],
      "metadata": {
        "colab": {
          "base_uri": "https://localhost:8080/"
        },
        "id": "-rcVHAyDsBsx",
        "outputId": "3aefa8e3-32bc-401b-c8d9-7f01a8d68ac8",
        "collapsed": true
      },
      "execution_count": null,
      "outputs": [
        {
          "output_type": "stream",
          "name": "stdout",
          "text": [
            "/.\n",
            "/etc\n",
            "/etc/apparmor.d\n",
            "/etc/apparmor.d/usr.bin.man\n",
            "/etc/cron.daily\n",
            "/etc/cron.daily/man-db\n",
            "/etc/cron.weekly\n",
            "/etc/cron.weekly/man-db\n",
            "/etc/manpath.config\n",
            "/lib\n",
            "/lib/systemd\n",
            "/lib/systemd/system\n",
            "/lib/systemd/system/man-db.service\n",
            "/lib/systemd/system/man-db.timer\n",
            "/usr\n",
            "/usr/bin\n",
            "/usr/bin/catman\n",
            "/usr/bin/lexgrog\n",
            "/usr/bin/man\n",
            "/usr/bin/man-recode\n",
            "/usr/bin/mandb\n",
            "/usr/bin/manpath\n",
            "/usr/bin/whatis\n",
            "/usr/lib\n",
            "/usr/lib/man-db\n",
            "/usr/lib/man-db/libman-2.10.2.so\n",
            "/usr/lib/man-db/libmandb-2.10.2.so\n",
            "/usr/lib/mime\n",
            "/usr/lib/mime/packages\n",
            "/usr/lib/mime/packages/man-db\n",
            "/usr/lib/tmpfiles.d\n",
            "/usr/lib/tmpfiles.d/man-db.conf\n",
            "/usr/libexec\n",
            "/usr/libexec/man-db\n",
            "/usr/libexec/man-db/globbing\n",
            "/usr/libexec/man-db/manconv\n",
            "/usr/libexec/man-db/zsoelim\n",
            "/usr/sbin\n",
            "/usr/sbin/accessdb\n",
            "/usr/share\n",
            "/usr/share/bug\n",
            "/usr/share/bug/man-db\n",
            "/usr/share/bug/man-db/presubj\n",
            "/usr/share/doc\n",
            "/usr/share/doc/man-db\n",
            "/usr/share/doc/man-db/ChangeLog-2013.gz\n",
            "/usr/share/doc/man-db/FAQ\n",
            "/usr/share/doc/man-db/NEWS.md.gz\n",
            "/usr/share/doc/man-db/README.md.gz\n",
            "/usr/share/doc/man-db/THANKS\n",
            "/usr/share/doc/man-db/TODO\n",
            "/usr/share/doc/man-db/changelog.Debian.gz\n",
            "/usr/share/doc/man-db/copyright\n",
            "/usr/share/doc/man-db/examples\n",
            "/usr/share/doc/man-db/examples/manpage.example\n",
            "/usr/share/doc/man-db/examples/manpage.example.mdoc\n",
            "/usr/share/doc/man-db/examples/manpage.example.pod\n",
            "/usr/share/doc/man-db/examples/manpage.example.sgml\n",
            "/usr/share/doc/man-db/examples/manpath.config\n",
            "/usr/share/doc/man-db/man-db-manual.ps.gz\n",
            "/usr/share/doc/man-db/man-db-manual.txt.gz\n",
            "/usr/share/doc-base\n",
            "/usr/share/doc-base/man-db.man-db\n",
            "/usr/share/lintian\n",
            "/usr/share/lintian/overrides\n",
            "/usr/share/lintian/overrides/man-db\n",
            "/usr/share/man\n",
            "/usr/share/man/da\n",
            "/usr/share/man/da/man1\n",
            "/usr/share/man/da/man1/apropos.1.gz\n",
            "/usr/share/man/da/man1/lexgrog.1.gz\n",
            "/usr/share/man/da/man1/man-recode.1.gz\n",
            "/usr/share/man/da/man1/man.1.gz\n",
            "/usr/share/man/da/man1/manconv.1.gz\n",
            "/usr/share/man/da/man1/manpath.1.gz\n",
            "/usr/share/man/da/man1/whatis.1.gz\n",
            "/usr/share/man/da/man1/zsoelim.1.gz\n",
            "/usr/share/man/da/man5\n",
            "/usr/share/man/da/man5/manpath.5.gz\n",
            "/usr/share/man/da/man8\n",
            "/usr/share/man/da/man8/accessdb.8.gz\n",
            "/usr/share/man/da/man8/catman.8.gz\n",
            "/usr/share/man/da/man8/mandb.8.gz\n",
            "/usr/share/man/de\n",
            "/usr/share/man/de/man1\n",
            "/usr/share/man/de/man1/apropos.1.gz\n",
            "/usr/share/man/de/man1/lexgrog.1.gz\n",
            "/usr/share/man/de/man1/man-recode.1.gz\n",
            "/usr/share/man/de/man1/man.1.gz\n",
            "/usr/share/man/de/man1/manconv.1.gz\n",
            "/usr/share/man/de/man1/manpath.1.gz\n",
            "/usr/share/man/de/man1/whatis.1.gz\n",
            "/usr/share/man/de/man1/zsoelim.1.gz\n",
            "/usr/share/man/de/man5\n",
            "/usr/share/man/de/man5/manpath.5.gz\n",
            "/usr/share/man/de/man8\n",
            "/usr/share/man/de/man8/accessdb.8.gz\n",
            "/usr/share/man/de/man8/catman.8.gz\n",
            "/usr/share/man/de/man8/mandb.8.gz\n",
            "/usr/share/man/es\n",
            "/usr/share/man/es/man1\n",
            "/usr/share/man/es/man1/apropos.1.gz\n",
            "/usr/share/man/es/man1/lexgrog.1.gz\n",
            "/usr/share/man/es/man1/man-recode.1.gz\n",
            "/usr/share/man/es/man1/man.1.gz\n",
            "/usr/share/man/es/man1/manconv.1.gz\n",
            "/usr/share/man/es/man1/manpath.1.gz\n",
            "/usr/share/man/es/man1/whatis.1.gz\n",
            "/usr/share/man/es/man1/zsoelim.1.gz\n",
            "/usr/share/man/es/man5\n",
            "/usr/share/man/es/man5/manpath.5.gz\n",
            "/usr/share/man/es/man8\n",
            "/usr/share/man/es/man8/accessdb.8.gz\n",
            "/usr/share/man/es/man8/catman.8.gz\n",
            "/usr/share/man/es/man8/mandb.8.gz\n",
            "/usr/share/man/fr\n",
            "/usr/share/man/fr/man1\n",
            "/usr/share/man/fr/man1/apropos.1.gz\n",
            "/usr/share/man/fr/man1/lexgrog.1.gz\n",
            "/usr/share/man/fr/man1/man-recode.1.gz\n",
            "/usr/share/man/fr/man1/man.1.gz\n",
            "/usr/share/man/fr/man1/manconv.1.gz\n",
            "/usr/share/man/fr/man1/manpath.1.gz\n",
            "/usr/share/man/fr/man1/whatis.1.gz\n",
            "/usr/share/man/fr/man1/zsoelim.1.gz\n",
            "/usr/share/man/fr/man5\n",
            "/usr/share/man/fr/man5/manpath.5.gz\n",
            "/usr/share/man/fr/man8\n",
            "/usr/share/man/fr/man8/accessdb.8.gz\n",
            "/usr/share/man/fr/man8/catman.8.gz\n",
            "/usr/share/man/fr/man8/mandb.8.gz\n",
            "/usr/share/man/id\n",
            "/usr/share/man/id/man1\n",
            "/usr/share/man/id/man1/apropos.1.gz\n",
            "/usr/share/man/id/man1/lexgrog.1.gz\n",
            "/usr/share/man/id/man1/man-recode.1.gz\n",
            "/usr/share/man/id/man1/man.1.gz\n",
            "/usr/share/man/id/man1/manconv.1.gz\n",
            "/usr/share/man/id/man1/manpath.1.gz\n",
            "/usr/share/man/id/man1/whatis.1.gz\n",
            "/usr/share/man/id/man1/zsoelim.1.gz\n",
            "/usr/share/man/id/man5\n",
            "/usr/share/man/id/man5/manpath.5.gz\n",
            "/usr/share/man/id/man8\n",
            "/usr/share/man/id/man8/accessdb.8.gz\n",
            "/usr/share/man/id/man8/catman.8.gz\n",
            "/usr/share/man/id/man8/mandb.8.gz\n",
            "/usr/share/man/it\n",
            "/usr/share/man/it/man1\n",
            "/usr/share/man/it/man1/apropos.1.gz\n",
            "/usr/share/man/it/man1/man.1.gz\n",
            "/usr/share/man/it/man1/manpath.1.gz\n",
            "/usr/share/man/it/man1/whatis.1.gz\n",
            "/usr/share/man/it/man1/zsoelim.1.gz\n",
            "/usr/share/man/it/man5\n",
            "/usr/share/man/it/man5/manpath.5.gz\n",
            "/usr/share/man/it/man8\n",
            "/usr/share/man/it/man8/accessdb.8.gz\n",
            "/usr/share/man/it/man8/catman.8.gz\n",
            "/usr/share/man/it/man8/mandb.8.gz\n",
            "/usr/share/man/ja\n",
            "/usr/share/man/ja/man1\n",
            "/usr/share/man/ja/man1/apropos.1.gz\n",
            "/usr/share/man/ja/man1/lexgrog.1.gz\n",
            "/usr/share/man/ja/man1/man-recode.1.gz\n",
            "/usr/share/man/ja/man1/man.1.gz\n",
            "/usr/share/man/ja/man1/manconv.1.gz\n",
            "/usr/share/man/ja/man1/manpath.1.gz\n",
            "/usr/share/man/ja/man1/whatis.1.gz\n",
            "/usr/share/man/ja/man1/zsoelim.1.gz\n",
            "/usr/share/man/ja/man5\n",
            "/usr/share/man/ja/man5/manpath.5.gz\n",
            "/usr/share/man/ja/man8\n",
            "/usr/share/man/ja/man8/accessdb.8.gz\n",
            "/usr/share/man/ja/man8/catman.8.gz\n",
            "/usr/share/man/ja/man8/mandb.8.gz\n",
            "/usr/share/man/man1\n",
            "/usr/share/man/man1/apropos.1.gz\n",
            "/usr/share/man/man1/lexgrog.1.gz\n",
            "/usr/share/man/man1/man-recode.1.gz\n",
            "/usr/share/man/man1/man.1.gz\n",
            "/usr/share/man/man1/manconv.1.gz\n",
            "/usr/share/man/man1/manpath.1.gz\n",
            "/usr/share/man/man1/whatis.1.gz\n",
            "/usr/share/man/man1/zsoelim.1.gz\n",
            "/usr/share/man/man5\n",
            "/usr/share/man/man5/manpath.5.gz\n",
            "/usr/share/man/man8\n",
            "/usr/share/man/man8/accessdb.8.gz\n",
            "/usr/share/man/man8/catman.8.gz\n",
            "/usr/share/man/man8/mandb.8.gz\n",
            "/usr/share/man/nl\n",
            "/usr/share/man/nl/man1\n",
            "/usr/share/man/nl/man1/apropos.1.gz\n",
            "/usr/share/man/nl/man1/lexgrog.1.gz\n",
            "/usr/share/man/nl/man1/man-recode.1.gz\n",
            "/usr/share/man/nl/man1/man.1.gz\n",
            "/usr/share/man/nl/man1/manconv.1.gz\n",
            "/usr/share/man/nl/man1/manpath.1.gz\n",
            "/usr/share/man/nl/man1/whatis.1.gz\n",
            "/usr/share/man/nl/man1/zsoelim.1.gz\n",
            "/usr/share/man/nl/man5\n",
            "/usr/share/man/nl/man5/manpath.5.gz\n",
            "/usr/share/man/nl/man8\n",
            "/usr/share/man/nl/man8/accessdb.8.gz\n",
            "/usr/share/man/nl/man8/catman.8.gz\n",
            "/usr/share/man/nl/man8/mandb.8.gz\n",
            "/usr/share/man/pl\n",
            "/usr/share/man/pl/man1\n",
            "/usr/share/man/pl/man1/apropos.1.gz\n",
            "/usr/share/man/pl/man1/lexgrog.1.gz\n",
            "/usr/share/man/pl/man1/man-recode.1.gz\n",
            "/usr/share/man/pl/man1/man.1.gz\n",
            "/usr/share/man/pl/man1/manconv.1.gz\n",
            "/usr/share/man/pl/man1/manpath.1.gz\n",
            "/usr/share/man/pl/man1/whatis.1.gz\n",
            "/usr/share/man/pl/man1/zsoelim.1.gz\n",
            "/usr/share/man/pl/man5\n",
            "/usr/share/man/pl/man5/manpath.5.gz\n",
            "/usr/share/man/pl/man8\n",
            "/usr/share/man/pl/man8/accessdb.8.gz\n",
            "/usr/share/man/pl/man8/catman.8.gz\n",
            "/usr/share/man/pl/man8/mandb.8.gz\n",
            "/usr/share/man/pt\n",
            "/usr/share/man/pt/man1\n",
            "/usr/share/man/pt/man1/apropos.1.gz\n",
            "/usr/share/man/pt/man1/lexgrog.1.gz\n",
            "/usr/share/man/pt/man1/man-recode.1.gz\n",
            "/usr/share/man/pt/man1/man.1.gz\n",
            "/usr/share/man/pt/man1/manconv.1.gz\n",
            "/usr/share/man/pt/man1/manpath.1.gz\n",
            "/usr/share/man/pt/man1/whatis.1.gz\n",
            "/usr/share/man/pt/man1/zsoelim.1.gz\n",
            "/usr/share/man/pt/man5\n",
            "/usr/share/man/pt/man5/manpath.5.gz\n",
            "/usr/share/man/pt/man8\n",
            "/usr/share/man/pt/man8/accessdb.8.gz\n",
            "/usr/share/man/pt/man8/catman.8.gz\n",
            "/usr/share/man/pt/man8/mandb.8.gz\n",
            "/usr/share/man/pt_BR\n",
            "/usr/share/man/pt_BR/man1\n",
            "/usr/share/man/pt_BR/man1/apropos.1.gz\n",
            "/usr/share/man/pt_BR/man1/lexgrog.1.gz\n",
            "/usr/share/man/pt_BR/man1/man-recode.1.gz\n",
            "/usr/share/man/pt_BR/man1/man.1.gz\n",
            "/usr/share/man/pt_BR/man1/manconv.1.gz\n",
            "/usr/share/man/pt_BR/man1/manpath.1.gz\n",
            "/usr/share/man/pt_BR/man1/whatis.1.gz\n",
            "/usr/share/man/pt_BR/man1/zsoelim.1.gz\n",
            "/usr/share/man/pt_BR/man5\n",
            "/usr/share/man/pt_BR/man5/manpath.5.gz\n",
            "/usr/share/man/pt_BR/man8\n",
            "/usr/share/man/pt_BR/man8/accessdb.8.gz\n",
            "/usr/share/man/pt_BR/man8/catman.8.gz\n",
            "/usr/share/man/pt_BR/man8/mandb.8.gz\n",
            "/usr/share/man/ro\n",
            "/usr/share/man/ro/man1\n",
            "/usr/share/man/ro/man1/apropos.1.gz\n",
            "/usr/share/man/ro/man1/lexgrog.1.gz\n",
            "/usr/share/man/ro/man1/man-recode.1.gz\n",
            "/usr/share/man/ro/man1/man.1.gz\n",
            "/usr/share/man/ro/man1/manconv.1.gz\n",
            "/usr/share/man/ro/man1/manpath.1.gz\n",
            "/usr/share/man/ro/man1/whatis.1.gz\n",
            "/usr/share/man/ro/man1/zsoelim.1.gz\n",
            "/usr/share/man/ro/man5\n",
            "/usr/share/man/ro/man5/manpath.5.gz\n",
            "/usr/share/man/ro/man8\n",
            "/usr/share/man/ro/man8/accessdb.8.gz\n",
            "/usr/share/man/ro/man8/catman.8.gz\n",
            "/usr/share/man/ro/man8/mandb.8.gz\n",
            "/usr/share/man/ru\n",
            "/usr/share/man/ru/man1\n",
            "/usr/share/man/ru/man1/apropos.1.gz\n",
            "/usr/share/man/ru/man1/lexgrog.1.gz\n",
            "/usr/share/man/ru/man1/man-recode.1.gz\n",
            "/usr/share/man/ru/man1/man.1.gz\n",
            "/usr/share/man/ru/man1/manconv.1.gz\n",
            "/usr/share/man/ru/man1/manpath.1.gz\n",
            "/usr/share/man/ru/man1/whatis.1.gz\n",
            "/usr/share/man/ru/man1/zsoelim.1.gz\n",
            "/usr/share/man/ru/man5\n",
            "/usr/share/man/ru/man5/manpath.5.gz\n",
            "/usr/share/man/ru/man8\n",
            "/usr/share/man/ru/man8/accessdb.8.gz\n",
            "/usr/share/man/ru/man8/catman.8.gz\n",
            "/usr/share/man/ru/man8/mandb.8.gz\n",
            "/usr/share/man/sr\n",
            "/usr/share/man/sr/man1\n",
            "/usr/share/man/sr/man1/apropos.1.gz\n",
            "/usr/share/man/sr/man1/lexgrog.1.gz\n",
            "/usr/share/man/sr/man1/man-recode.1.gz\n",
            "/usr/share/man/sr/man1/man.1.gz\n",
            "/usr/share/man/sr/man1/manconv.1.gz\n",
            "/usr/share/man/sr/man1/manpath.1.gz\n",
            "/usr/share/man/sr/man1/whatis.1.gz\n",
            "/usr/share/man/sr/man1/zsoelim.1.gz\n",
            "/usr/share/man/sr/man5\n",
            "/usr/share/man/sr/man5/manpath.5.gz\n",
            "/usr/share/man/sr/man8\n",
            "/usr/share/man/sr/man8/accessdb.8.gz\n",
            "/usr/share/man/sr/man8/catman.8.gz\n",
            "/usr/share/man/sr/man8/mandb.8.gz\n",
            "/usr/share/man/sv\n",
            "/usr/share/man/sv/man1\n",
            "/usr/share/man/sv/man1/apropos.1.gz\n",
            "/usr/share/man/sv/man1/lexgrog.1.gz\n",
            "/usr/share/man/sv/man1/man-recode.1.gz\n",
            "/usr/share/man/sv/man1/man.1.gz\n",
            "/usr/share/man/sv/man1/manconv.1.gz\n",
            "/usr/share/man/sv/man1/manpath.1.gz\n",
            "/usr/share/man/sv/man1/whatis.1.gz\n",
            "/usr/share/man/sv/man1/zsoelim.1.gz\n",
            "/usr/share/man/sv/man5\n",
            "/usr/share/man/sv/man5/manpath.5.gz\n",
            "/usr/share/man/sv/man8\n",
            "/usr/share/man/sv/man8/accessdb.8.gz\n",
            "/usr/share/man/sv/man8/catman.8.gz\n",
            "/usr/share/man/sv/man8/mandb.8.gz\n",
            "/usr/share/man/tr\n",
            "/usr/share/man/tr/man1\n",
            "/usr/share/man/tr/man1/apropos.1.gz\n",
            "/usr/share/man/tr/man1/lexgrog.1.gz\n",
            "/usr/share/man/tr/man1/man-recode.1.gz\n",
            "/usr/share/man/tr/man1/man.1.gz\n",
            "/usr/share/man/tr/man1/manconv.1.gz\n",
            "/usr/share/man/tr/man1/manpath.1.gz\n",
            "/usr/share/man/tr/man1/whatis.1.gz\n",
            "/usr/share/man/tr/man1/zsoelim.1.gz\n",
            "/usr/share/man/tr/man5\n",
            "/usr/share/man/tr/man5/manpath.5.gz\n",
            "/usr/share/man/tr/man8\n",
            "/usr/share/man/tr/man8/accessdb.8.gz\n",
            "/usr/share/man/tr/man8/catman.8.gz\n",
            "/usr/share/man/tr/man8/mandb.8.gz\n",
            "/usr/share/man/zh_CN\n",
            "/usr/share/man/zh_CN/man1\n",
            "/usr/share/man/zh_CN/man1/apropos.1.gz\n",
            "/usr/share/man/zh_CN/man1/lexgrog.1.gz\n",
            "/usr/share/man/zh_CN/man1/man-recode.1.gz\n",
            "/usr/share/man/zh_CN/man1/man.1.gz\n",
            "/usr/share/man/zh_CN/man1/manconv.1.gz\n",
            "/usr/share/man/zh_CN/man1/manpath.1.gz\n",
            "/usr/share/man/zh_CN/man1/whatis.1.gz\n",
            "/usr/share/man/zh_CN/man1/zsoelim.1.gz\n",
            "/usr/share/man/zh_CN/man5\n",
            "/usr/share/man/zh_CN/man5/manpath.5.gz\n",
            "/usr/share/man/zh_CN/man8\n",
            "/usr/share/man/zh_CN/man8/accessdb.8.gz\n",
            "/usr/share/man/zh_CN/man8/catman.8.gz\n",
            "/usr/share/man/zh_CN/man8/mandb.8.gz\n",
            "/usr/share/man-db\n",
            "/usr/share/man-db/chconfig\n",
            "/var\n",
            "/var/cache\n",
            "/var/cache/man\n",
            "/var/lib\n",
            "/var/lib/man-db\n",
            "/usr/bin/apropos\n",
            "/usr/lib/man-db/libman.so\n",
            "/usr/lib/man-db/libmandb.so\n",
            "/usr/lib/man-db/man\n",
            "/usr/lib/man-db/mandb\n"
          ]
        }
      ]
    },
    {
      "cell_type": "markdown",
      "source": [
        "The man-db package is not included bash man page.\n",
        "\n",
        "And bash man page is not installed."
      ],
      "metadata": {
        "id": "B07z0GOTcBcR"
      }
    },
    {
      "cell_type": "code",
      "source": [
        "!ls -ld /usr/share/man/man*\n",
        "!for D in $(ls -d /usr/share/man/man*) ; do echo ${D} ; ls -l ${D} ; done |grep \"bash\""
      ],
      "metadata": {
        "colab": {
          "base_uri": "https://localhost:8080/"
        },
        "id": "cD0KPpixsYko",
        "outputId": "fd815a08-996b-4525-ea9b-e1ef8916fe02"
      },
      "execution_count": 1,
      "outputs": [
        {
          "output_type": "stream",
          "name": "stdout",
          "text": [
            "drwxr-xr-x 1 root root  36864 Feb 13 14:15 /usr/share/man/man1\n",
            "drwxr-xr-x 2 root root  20480 Feb 13 14:14 /usr/share/man/man2\n",
            "drwxr-xr-x 1 root root 159744 Feb 13 14:14 /usr/share/man/man3\n",
            "drwxr-xr-x 2 root root   4096 Feb 13 14:14 /usr/share/man/man4\n",
            "drwxr-xr-x 1 root root   4096 Feb 13 14:14 /usr/share/man/man5\n",
            "drwxr-xr-x 2 root root   4096 Feb 13 14:13 /usr/share/man/man6\n",
            "drwxr-xr-x 1 root root  12288 Feb 13 14:14 /usr/share/man/man7\n",
            "drwxr-xr-x 1 root root  20480 Feb 13 14:14 /usr/share/man/man8\n"
          ]
        }
      ]
    },
    {
      "cell_type": "code",
      "source": [
        "!apt list bash"
      ],
      "metadata": {
        "colab": {
          "base_uri": "https://localhost:8080/"
        },
        "id": "-kuaG6Vtaztf",
        "outputId": "c3932a72-2de1-4c18-b203-845b86708d74"
      },
      "execution_count": 6,
      "outputs": [
        {
          "output_type": "stream",
          "name": "stdout",
          "text": [
            "\rListing... 0%\r\rListing... 0%\r\rListing... 0%\r\rListing... Done\r\n",
            "\u001b[32mbash\u001b[0m/jammy-updates,jammy-security,now 5.1-6ubuntu1.1 amd64 [installed]\n",
            "\u001b[33mN: \u001b[0mThere is 1 additional version. Please use the '-a' switch to see it\u001b[0m\n"
          ]
        }
      ]
    },
    {
      "cell_type": "markdown",
      "source": [
        "The package of bash is installed ,literally.\n",
        "\n",
        "So, I ask to Jemini colab in line."
      ],
      "metadata": {
        "id": "Cn9C6nljcc9n"
      }
    },
    {
      "cell_type": "code",
      "source": [
        "# prompt: How do i get to install bash package man page?\n",
        "\n",
        "sudo apt-get install -y manpages-posix"
      ],
      "metadata": {
        "id": "EJCbtF3EaLMb"
      },
      "execution_count": null,
      "outputs": []
    },
    {
      "cell_type": "markdown",
      "source": [
        "The manpages-posix is already installed.\n",
        "\n",
        "But bash man page is not included."
      ],
      "metadata": {
        "id": "CXTDNWAgdaLD"
      }
    },
    {
      "cell_type": "code",
      "source": [
        "!apt show manpages-posix"
      ],
      "metadata": {
        "colab": {
          "base_uri": "https://localhost:8080/"
        },
        "id": "CM6oF8pJP48S",
        "outputId": "b7225461-f337-4984-9a8b-3b155c50fe7e"
      },
      "execution_count": 7,
      "outputs": [
        {
          "output_type": "stream",
          "name": "stdout",
          "text": [
            "Package: manpages-posix\n",
            "Version: 2017a-2\n",
            "Priority: optional\n",
            "Section: multiverse/doc\n",
            "Origin: Ubuntu\n",
            "Maintainer: Ubuntu Developers <ubuntu-devel-discuss@lists.ubuntu.com>\n",
            "Original-Maintainer: Francesco Paolo Lovergine <frankie@debian.org>\n",
            "Bugs: https://bugs.launchpad.net/ubuntu/+filebug\n",
            "Installed-Size: 1,016 kB\n",
            "Recommends: manpages\n",
            "Suggests: man-browser\n",
            "Enhances: manpages\n",
            "Homepage: https://www.kernel.org/pub/linux/docs/man-pages/man-pages-posix/\n",
            "Download-Size: 932 kB\n",
            "APT-Manual-Installed: yes\n",
            "APT-Sources: http://archive.ubuntu.com/ubuntu jammy/multiverse amd64 Packages\n",
            "Description: Manual pages about using POSIX system\n",
            "\n"
          ]
        }
      ]
    },
    {
      "cell_type": "code",
      "source": [
        "!dpkg -L manpages-posix |grep \"bash\""
      ],
      "metadata": {
        "collapsed": true,
        "id": "aUH6ydahbQBb"
      },
      "execution_count": 10,
      "outputs": []
    },
    {
      "cell_type": "markdown",
      "source": [
        "Then, I ask Gemini Application and Gemini said GNU Bash Reference Manual: https://www.gnu.org/software/bash/manual/bashref.html"
      ],
      "metadata": {
        "id": "krS-MKNqiyaH"
      }
    }
  ]
}